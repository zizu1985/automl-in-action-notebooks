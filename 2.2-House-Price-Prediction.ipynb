{
  "cells": [
    {
      "cell_type": "code",
      "execution_count": null,
      "metadata": {
        "id": "CfkoThbGEr_t",
        "outputId": "aae2bd4e-7d60-4dc7-d1a5-b60a182a849c",
        "colab": {
          "base_uri": "https://localhost:8080/"
        }
      },
      "outputs": [
        {
          "output_type": "stream",
          "name": "stdout",
          "text": [
            "Requirement already satisfied: autokeras==1.1.0 in /usr/local/lib/python3.10/dist-packages (from -r https://raw.githubusercontent.com/datamllab/automl-in-action-notebooks/master/requirements.txt (line 1)) (1.1.0)\n",
            "Requirement already satisfied: keras-tuner==1.2.0 in /usr/local/lib/python3.10/dist-packages (from -r https://raw.githubusercontent.com/datamllab/automl-in-action-notebooks/master/requirements.txt (line 2)) (1.2.0)\n",
            "Requirement already satisfied: numpy==1.24.1 in /usr/local/lib/python3.10/dist-packages (from -r https://raw.githubusercontent.com/datamllab/automl-in-action-notebooks/master/requirements.txt (line 3)) (1.24.1)\n",
            "Requirement already satisfied: pandas==1.5.3 in /usr/local/lib/python3.10/dist-packages (from -r https://raw.githubusercontent.com/datamllab/automl-in-action-notebooks/master/requirements.txt (line 4)) (1.5.3)\n",
            "Requirement already satisfied: scikit-learn==1.2.1 in /usr/local/lib/python3.10/dist-packages (from -r https://raw.githubusercontent.com/datamllab/automl-in-action-notebooks/master/requirements.txt (line 5)) (1.2.1)\n",
            "Requirement already satisfied: scipy==1.10.0 in /usr/local/lib/python3.10/dist-packages (from -r https://raw.githubusercontent.com/datamllab/automl-in-action-notebooks/master/requirements.txt (line 6)) (1.10.0)\n",
            "Requirement already satisfied: tensorflow==2.10.1 in /usr/local/lib/python3.10/dist-packages (from -r https://raw.githubusercontent.com/datamllab/automl-in-action-notebooks/master/requirements.txt (line 7)) (2.10.1)\n",
            "Requirement already satisfied: matplotlib==3.4.3 in /usr/local/lib/python3.10/dist-packages (from -r https://raw.githubusercontent.com/datamllab/automl-in-action-notebooks/master/requirements.txt (line 8)) (3.4.3)\n",
            "Requirement already satisfied: seaborn==0.11.2 in /usr/local/lib/python3.10/dist-packages (from -r https://raw.githubusercontent.com/datamllab/automl-in-action-notebooks/master/requirements.txt (line 9)) (0.11.2)\n",
            "Requirement already satisfied: pydotplus==2.0.2 in /usr/local/lib/python3.10/dist-packages (from -r https://raw.githubusercontent.com/datamllab/automl-in-action-notebooks/master/requirements.txt (line 10)) (2.0.2)\n",
            "Requirement already satisfied: graphviz==0.17 in /usr/local/lib/python3.10/dist-packages (from -r https://raw.githubusercontent.com/datamllab/automl-in-action-notebooks/master/requirements.txt (line 11)) (0.17)\n",
            "Requirement already satisfied: lightgbm==3.3.2 in /usr/local/lib/python3.10/dist-packages (from -r https://raw.githubusercontent.com/datamllab/automl-in-action-notebooks/master/requirements.txt (line 12)) (3.3.2)\n",
            "Requirement already satisfied: packaging in /usr/local/lib/python3.10/dist-packages (from autokeras==1.1.0->-r https://raw.githubusercontent.com/datamllab/automl-in-action-notebooks/master/requirements.txt (line 1)) (24.2)\n",
            "Requirement already satisfied: keras-nlp>=0.4.0 in /usr/local/lib/python3.10/dist-packages (from autokeras==1.1.0->-r https://raw.githubusercontent.com/datamllab/automl-in-action-notebooks/master/requirements.txt (line 1)) (0.18.1)\n",
            "Requirement already satisfied: requests in /usr/local/lib/python3.10/dist-packages (from keras-tuner==1.2.0->-r https://raw.githubusercontent.com/datamllab/automl-in-action-notebooks/master/requirements.txt (line 2)) (2.32.3)\n",
            "Requirement already satisfied: ipython in /usr/local/lib/python3.10/dist-packages (from keras-tuner==1.2.0->-r https://raw.githubusercontent.com/datamllab/automl-in-action-notebooks/master/requirements.txt (line 2)) (7.34.0)\n",
            "Requirement already satisfied: kt-legacy in /usr/local/lib/python3.10/dist-packages (from keras-tuner==1.2.0->-r https://raw.githubusercontent.com/datamllab/automl-in-action-notebooks/master/requirements.txt (line 2)) (1.0.5)\n",
            "Requirement already satisfied: python-dateutil>=2.8.1 in /usr/local/lib/python3.10/dist-packages (from pandas==1.5.3->-r https://raw.githubusercontent.com/datamllab/automl-in-action-notebooks/master/requirements.txt (line 4)) (2.8.2)\n",
            "Requirement already satisfied: pytz>=2020.1 in /usr/local/lib/python3.10/dist-packages (from pandas==1.5.3->-r https://raw.githubusercontent.com/datamllab/automl-in-action-notebooks/master/requirements.txt (line 4)) (2024.2)\n",
            "Requirement already satisfied: joblib>=1.1.1 in /usr/local/lib/python3.10/dist-packages (from scikit-learn==1.2.1->-r https://raw.githubusercontent.com/datamllab/automl-in-action-notebooks/master/requirements.txt (line 5)) (1.4.2)\n",
            "Requirement already satisfied: threadpoolctl>=2.0.0 in /usr/local/lib/python3.10/dist-packages (from scikit-learn==1.2.1->-r https://raw.githubusercontent.com/datamllab/automl-in-action-notebooks/master/requirements.txt (line 5)) (3.5.0)\n",
            "Requirement already satisfied: absl-py>=1.0.0 in /usr/local/lib/python3.10/dist-packages (from tensorflow==2.10.1->-r https://raw.githubusercontent.com/datamllab/automl-in-action-notebooks/master/requirements.txt (line 7)) (1.4.0)\n",
            "Requirement already satisfied: astunparse>=1.6.0 in /usr/local/lib/python3.10/dist-packages (from tensorflow==2.10.1->-r https://raw.githubusercontent.com/datamllab/automl-in-action-notebooks/master/requirements.txt (line 7)) (1.6.3)\n",
            "Requirement already satisfied: flatbuffers>=2.0 in /usr/local/lib/python3.10/dist-packages (from tensorflow==2.10.1->-r https://raw.githubusercontent.com/datamllab/automl-in-action-notebooks/master/requirements.txt (line 7)) (24.12.23)\n",
            "Requirement already satisfied: gast<=0.4.0,>=0.2.1 in /usr/local/lib/python3.10/dist-packages (from tensorflow==2.10.1->-r https://raw.githubusercontent.com/datamllab/automl-in-action-notebooks/master/requirements.txt (line 7)) (0.4.0)\n",
            "Requirement already satisfied: google-pasta>=0.1.1 in /usr/local/lib/python3.10/dist-packages (from tensorflow==2.10.1->-r https://raw.githubusercontent.com/datamllab/automl-in-action-notebooks/master/requirements.txt (line 7)) (0.2.0)\n",
            "Requirement already satisfied: grpcio<2.0,>=1.24.3 in /usr/local/lib/python3.10/dist-packages (from tensorflow==2.10.1->-r https://raw.githubusercontent.com/datamllab/automl-in-action-notebooks/master/requirements.txt (line 7)) (1.69.0)\n",
            "Requirement already satisfied: h5py>=2.9.0 in /usr/local/lib/python3.10/dist-packages (from tensorflow==2.10.1->-r https://raw.githubusercontent.com/datamllab/automl-in-action-notebooks/master/requirements.txt (line 7)) (3.12.1)\n",
            "Requirement already satisfied: keras<2.11,>=2.10.0 in /usr/local/lib/python3.10/dist-packages (from tensorflow==2.10.1->-r https://raw.githubusercontent.com/datamllab/automl-in-action-notebooks/master/requirements.txt (line 7)) (2.10.0)\n",
            "Requirement already satisfied: keras-preprocessing>=1.1.1 in /usr/local/lib/python3.10/dist-packages (from tensorflow==2.10.1->-r https://raw.githubusercontent.com/datamllab/automl-in-action-notebooks/master/requirements.txt (line 7)) (1.1.2)\n",
            "Requirement already satisfied: libclang>=13.0.0 in /usr/local/lib/python3.10/dist-packages (from tensorflow==2.10.1->-r https://raw.githubusercontent.com/datamllab/automl-in-action-notebooks/master/requirements.txt (line 7)) (18.1.1)\n",
            "Requirement already satisfied: opt-einsum>=2.3.2 in /usr/local/lib/python3.10/dist-packages (from tensorflow==2.10.1->-r https://raw.githubusercontent.com/datamllab/automl-in-action-notebooks/master/requirements.txt (line 7)) (3.4.0)\n",
            "Requirement already satisfied: protobuf<3.20,>=3.9.2 in /usr/local/lib/python3.10/dist-packages (from tensorflow==2.10.1->-r https://raw.githubusercontent.com/datamllab/automl-in-action-notebooks/master/requirements.txt (line 7)) (3.19.6)\n",
            "Requirement already satisfied: setuptools in /usr/local/lib/python3.10/dist-packages (from tensorflow==2.10.1->-r https://raw.githubusercontent.com/datamllab/automl-in-action-notebooks/master/requirements.txt (line 7)) (75.1.0)\n",
            "Requirement already satisfied: six>=1.12.0 in /usr/local/lib/python3.10/dist-packages (from tensorflow==2.10.1->-r https://raw.githubusercontent.com/datamllab/automl-in-action-notebooks/master/requirements.txt (line 7)) (1.17.0)\n",
            "Requirement already satisfied: tensorboard<2.11,>=2.10 in /usr/local/lib/python3.10/dist-packages (from tensorflow==2.10.1->-r https://raw.githubusercontent.com/datamllab/automl-in-action-notebooks/master/requirements.txt (line 7)) (2.10.1)\n",
            "Requirement already satisfied: tensorflow-io-gcs-filesystem>=0.23.1 in /usr/local/lib/python3.10/dist-packages (from tensorflow==2.10.1->-r https://raw.githubusercontent.com/datamllab/automl-in-action-notebooks/master/requirements.txt (line 7)) (0.37.1)\n",
            "Requirement already satisfied: tensorflow-estimator<2.11,>=2.10.0 in /usr/local/lib/python3.10/dist-packages (from tensorflow==2.10.1->-r https://raw.githubusercontent.com/datamllab/automl-in-action-notebooks/master/requirements.txt (line 7)) (2.10.0)\n",
            "Requirement already satisfied: termcolor>=1.1.0 in /usr/local/lib/python3.10/dist-packages (from tensorflow==2.10.1->-r https://raw.githubusercontent.com/datamllab/automl-in-action-notebooks/master/requirements.txt (line 7)) (2.5.0)\n",
            "Requirement already satisfied: typing-extensions>=3.6.6 in /usr/local/lib/python3.10/dist-packages (from tensorflow==2.10.1->-r https://raw.githubusercontent.com/datamllab/automl-in-action-notebooks/master/requirements.txt (line 7)) (4.12.2)\n",
            "Requirement already satisfied: wrapt>=1.11.0 in /usr/local/lib/python3.10/dist-packages (from tensorflow==2.10.1->-r https://raw.githubusercontent.com/datamllab/automl-in-action-notebooks/master/requirements.txt (line 7)) (1.17.0)\n",
            "Requirement already satisfied: cycler>=0.10 in /usr/local/lib/python3.10/dist-packages (from matplotlib==3.4.3->-r https://raw.githubusercontent.com/datamllab/automl-in-action-notebooks/master/requirements.txt (line 8)) (0.12.1)\n",
            "Requirement already satisfied: kiwisolver>=1.0.1 in /usr/local/lib/python3.10/dist-packages (from matplotlib==3.4.3->-r https://raw.githubusercontent.com/datamllab/automl-in-action-notebooks/master/requirements.txt (line 8)) (1.4.8)\n",
            "Requirement already satisfied: pillow>=6.2.0 in /usr/local/lib/python3.10/dist-packages (from matplotlib==3.4.3->-r https://raw.githubusercontent.com/datamllab/automl-in-action-notebooks/master/requirements.txt (line 8)) (11.1.0)\n",
            "Requirement already satisfied: pyparsing>=2.2.1 in /usr/local/lib/python3.10/dist-packages (from matplotlib==3.4.3->-r https://raw.githubusercontent.com/datamllab/automl-in-action-notebooks/master/requirements.txt (line 8)) (3.2.1)\n",
            "Requirement already satisfied: wheel in /usr/local/lib/python3.10/dist-packages (from lightgbm==3.3.2->-r https://raw.githubusercontent.com/datamllab/automl-in-action-notebooks/master/requirements.txt (line 12)) (0.45.1)\n",
            "Requirement already satisfied: keras-hub==0.18.1 in /usr/local/lib/python3.10/dist-packages (from keras-nlp>=0.4.0->autokeras==1.1.0->-r https://raw.githubusercontent.com/datamllab/automl-in-action-notebooks/master/requirements.txt (line 1)) (0.18.1)\n",
            "Requirement already satisfied: regex in /usr/local/lib/python3.10/dist-packages (from keras-hub==0.18.1->keras-nlp>=0.4.0->autokeras==1.1.0->-r https://raw.githubusercontent.com/datamllab/automl-in-action-notebooks/master/requirements.txt (line 1)) (2024.11.6)\n",
            "Requirement already satisfied: rich in /usr/local/lib/python3.10/dist-packages (from keras-hub==0.18.1->keras-nlp>=0.4.0->autokeras==1.1.0->-r https://raw.githubusercontent.com/datamllab/automl-in-action-notebooks/master/requirements.txt (line 1)) (13.9.4)\n",
            "Requirement already satisfied: kagglehub in /usr/local/lib/python3.10/dist-packages (from keras-hub==0.18.1->keras-nlp>=0.4.0->autokeras==1.1.0->-r https://raw.githubusercontent.com/datamllab/automl-in-action-notebooks/master/requirements.txt (line 1)) (0.3.6)\n",
            "Requirement already satisfied: tensorflow-text in /usr/local/lib/python3.10/dist-packages (from keras-hub==0.18.1->keras-nlp>=0.4.0->autokeras==1.1.0->-r https://raw.githubusercontent.com/datamllab/automl-in-action-notebooks/master/requirements.txt (line 1)) (2.10.0)\n",
            "Requirement already satisfied: google-auth<3,>=1.6.3 in /usr/local/lib/python3.10/dist-packages (from tensorboard<2.11,>=2.10->tensorflow==2.10.1->-r https://raw.githubusercontent.com/datamllab/automl-in-action-notebooks/master/requirements.txt (line 7)) (2.27.0)\n",
            "Requirement already satisfied: google-auth-oauthlib<0.5,>=0.4.1 in /usr/local/lib/python3.10/dist-packages (from tensorboard<2.11,>=2.10->tensorflow==2.10.1->-r https://raw.githubusercontent.com/datamllab/automl-in-action-notebooks/master/requirements.txt (line 7)) (0.4.6)\n",
            "Requirement already satisfied: markdown>=2.6.8 in /usr/local/lib/python3.10/dist-packages (from tensorboard<2.11,>=2.10->tensorflow==2.10.1->-r https://raw.githubusercontent.com/datamllab/automl-in-action-notebooks/master/requirements.txt (line 7)) (3.7)\n",
            "Requirement already satisfied: tensorboard-data-server<0.7.0,>=0.6.0 in /usr/local/lib/python3.10/dist-packages (from tensorboard<2.11,>=2.10->tensorflow==2.10.1->-r https://raw.githubusercontent.com/datamllab/automl-in-action-notebooks/master/requirements.txt (line 7)) (0.6.1)\n",
            "Requirement already satisfied: tensorboard-plugin-wit>=1.6.0 in /usr/local/lib/python3.10/dist-packages (from tensorboard<2.11,>=2.10->tensorflow==2.10.1->-r https://raw.githubusercontent.com/datamllab/automl-in-action-notebooks/master/requirements.txt (line 7)) (1.8.1)\n",
            "Requirement already satisfied: werkzeug>=1.0.1 in /usr/local/lib/python3.10/dist-packages (from tensorboard<2.11,>=2.10->tensorflow==2.10.1->-r https://raw.githubusercontent.com/datamllab/automl-in-action-notebooks/master/requirements.txt (line 7)) (3.1.3)\n",
            "Requirement already satisfied: charset-normalizer<4,>=2 in /usr/local/lib/python3.10/dist-packages (from requests->keras-tuner==1.2.0->-r https://raw.githubusercontent.com/datamllab/automl-in-action-notebooks/master/requirements.txt (line 2)) (3.4.1)\n",
            "Requirement already satisfied: idna<4,>=2.5 in /usr/local/lib/python3.10/dist-packages (from requests->keras-tuner==1.2.0->-r https://raw.githubusercontent.com/datamllab/automl-in-action-notebooks/master/requirements.txt (line 2)) (3.10)\n",
            "Requirement already satisfied: urllib3<3,>=1.21.1 in /usr/local/lib/python3.10/dist-packages (from requests->keras-tuner==1.2.0->-r https://raw.githubusercontent.com/datamllab/automl-in-action-notebooks/master/requirements.txt (line 2)) (2.3.0)\n",
            "Requirement already satisfied: certifi>=2017.4.17 in /usr/local/lib/python3.10/dist-packages (from requests->keras-tuner==1.2.0->-r https://raw.githubusercontent.com/datamllab/automl-in-action-notebooks/master/requirements.txt (line 2)) (2024.12.14)\n",
            "Requirement already satisfied: jedi>=0.16 in /usr/local/lib/python3.10/dist-packages (from ipython->keras-tuner==1.2.0->-r https://raw.githubusercontent.com/datamllab/automl-in-action-notebooks/master/requirements.txt (line 2)) (0.19.2)\n",
            "Requirement already satisfied: decorator in /usr/local/lib/python3.10/dist-packages (from ipython->keras-tuner==1.2.0->-r https://raw.githubusercontent.com/datamllab/automl-in-action-notebooks/master/requirements.txt (line 2)) (4.4.2)\n",
            "Requirement already satisfied: pickleshare in /usr/local/lib/python3.10/dist-packages (from ipython->keras-tuner==1.2.0->-r https://raw.githubusercontent.com/datamllab/automl-in-action-notebooks/master/requirements.txt (line 2)) (0.7.5)\n",
            "Requirement already satisfied: traitlets>=4.2 in /usr/local/lib/python3.10/dist-packages (from ipython->keras-tuner==1.2.0->-r https://raw.githubusercontent.com/datamllab/automl-in-action-notebooks/master/requirements.txt (line 2)) (5.7.1)\n",
            "Requirement already satisfied: prompt-toolkit!=3.0.0,!=3.0.1,<3.1.0,>=2.0.0 in /usr/local/lib/python3.10/dist-packages (from ipython->keras-tuner==1.2.0->-r https://raw.githubusercontent.com/datamllab/automl-in-action-notebooks/master/requirements.txt (line 2)) (3.0.48)\n",
            "Requirement already satisfied: pygments in /usr/local/lib/python3.10/dist-packages (from ipython->keras-tuner==1.2.0->-r https://raw.githubusercontent.com/datamllab/automl-in-action-notebooks/master/requirements.txt (line 2)) (2.18.0)\n",
            "Requirement already satisfied: backcall in /usr/local/lib/python3.10/dist-packages (from ipython->keras-tuner==1.2.0->-r https://raw.githubusercontent.com/datamllab/automl-in-action-notebooks/master/requirements.txt (line 2)) (0.2.0)\n",
            "Requirement already satisfied: matplotlib-inline in /usr/local/lib/python3.10/dist-packages (from ipython->keras-tuner==1.2.0->-r https://raw.githubusercontent.com/datamllab/automl-in-action-notebooks/master/requirements.txt (line 2)) (0.1.7)\n",
            "Requirement already satisfied: pexpect>4.3 in /usr/local/lib/python3.10/dist-packages (from ipython->keras-tuner==1.2.0->-r https://raw.githubusercontent.com/datamllab/automl-in-action-notebooks/master/requirements.txt (line 2)) (4.9.0)\n",
            "Requirement already satisfied: cachetools<6.0,>=2.0.0 in /usr/local/lib/python3.10/dist-packages (from google-auth<3,>=1.6.3->tensorboard<2.11,>=2.10->tensorflow==2.10.1->-r https://raw.githubusercontent.com/datamllab/automl-in-action-notebooks/master/requirements.txt (line 7)) (5.5.0)\n",
            "Requirement already satisfied: pyasn1-modules>=0.2.1 in /usr/local/lib/python3.10/dist-packages (from google-auth<3,>=1.6.3->tensorboard<2.11,>=2.10->tensorflow==2.10.1->-r https://raw.githubusercontent.com/datamllab/automl-in-action-notebooks/master/requirements.txt (line 7)) (0.4.1)\n",
            "Requirement already satisfied: rsa<5,>=3.1.4 in /usr/local/lib/python3.10/dist-packages (from google-auth<3,>=1.6.3->tensorboard<2.11,>=2.10->tensorflow==2.10.1->-r https://raw.githubusercontent.com/datamllab/automl-in-action-notebooks/master/requirements.txt (line 7)) (4.9)\n",
            "Requirement already satisfied: requests-oauthlib>=0.7.0 in /usr/local/lib/python3.10/dist-packages (from google-auth-oauthlib<0.5,>=0.4.1->tensorboard<2.11,>=2.10->tensorflow==2.10.1->-r https://raw.githubusercontent.com/datamllab/automl-in-action-notebooks/master/requirements.txt (line 7)) (1.3.1)\n",
            "Requirement already satisfied: parso<0.9.0,>=0.8.4 in /usr/local/lib/python3.10/dist-packages (from jedi>=0.16->ipython->keras-tuner==1.2.0->-r https://raw.githubusercontent.com/datamllab/automl-in-action-notebooks/master/requirements.txt (line 2)) (0.8.4)\n",
            "Requirement already satisfied: ptyprocess>=0.5 in /usr/local/lib/python3.10/dist-packages (from pexpect>4.3->ipython->keras-tuner==1.2.0->-r https://raw.githubusercontent.com/datamllab/automl-in-action-notebooks/master/requirements.txt (line 2)) (0.7.0)\n",
            "Requirement already satisfied: wcwidth in /usr/local/lib/python3.10/dist-packages (from prompt-toolkit!=3.0.0,!=3.0.1,<3.1.0,>=2.0.0->ipython->keras-tuner==1.2.0->-r https://raw.githubusercontent.com/datamllab/automl-in-action-notebooks/master/requirements.txt (line 2)) (0.2.13)\n",
            "Requirement already satisfied: MarkupSafe>=2.1.1 in /usr/local/lib/python3.10/dist-packages (from werkzeug>=1.0.1->tensorboard<2.11,>=2.10->tensorflow==2.10.1->-r https://raw.githubusercontent.com/datamllab/automl-in-action-notebooks/master/requirements.txt (line 7)) (3.0.2)\n",
            "Requirement already satisfied: pyasn1<0.7.0,>=0.4.6 in /usr/local/lib/python3.10/dist-packages (from pyasn1-modules>=0.2.1->google-auth<3,>=1.6.3->tensorboard<2.11,>=2.10->tensorflow==2.10.1->-r https://raw.githubusercontent.com/datamllab/automl-in-action-notebooks/master/requirements.txt (line 7)) (0.6.1)\n",
            "Requirement already satisfied: oauthlib>=3.0.0 in /usr/local/lib/python3.10/dist-packages (from requests-oauthlib>=0.7.0->google-auth-oauthlib<0.5,>=0.4.1->tensorboard<2.11,>=2.10->tensorflow==2.10.1->-r https://raw.githubusercontent.com/datamllab/automl-in-action-notebooks/master/requirements.txt (line 7)) (3.2.2)\n",
            "Requirement already satisfied: tqdm in /usr/local/lib/python3.10/dist-packages (from kagglehub->keras-hub==0.18.1->keras-nlp>=0.4.0->autokeras==1.1.0->-r https://raw.githubusercontent.com/datamllab/automl-in-action-notebooks/master/requirements.txt (line 1)) (4.67.1)\n",
            "Requirement already satisfied: markdown-it-py>=2.2.0 in /usr/local/lib/python3.10/dist-packages (from rich->keras-hub==0.18.1->keras-nlp>=0.4.0->autokeras==1.1.0->-r https://raw.githubusercontent.com/datamllab/automl-in-action-notebooks/master/requirements.txt (line 1)) (3.0.0)\n",
            "Requirement already satisfied: tensorflow-hub>=0.8.0 in /usr/local/lib/python3.10/dist-packages (from tensorflow-text->keras-hub==0.18.1->keras-nlp>=0.4.0->autokeras==1.1.0->-r https://raw.githubusercontent.com/datamllab/automl-in-action-notebooks/master/requirements.txt (line 1)) (0.16.1)\n",
            "Requirement already satisfied: mdurl~=0.1 in /usr/local/lib/python3.10/dist-packages (from markdown-it-py>=2.2.0->rich->keras-hub==0.18.1->keras-nlp>=0.4.0->autokeras==1.1.0->-r https://raw.githubusercontent.com/datamllab/automl-in-action-notebooks/master/requirements.txt (line 1)) (0.1.2)\n",
            "Requirement already satisfied: tf-keras>=2.14.1 in /usr/local/lib/python3.10/dist-packages (from tensorflow-hub>=0.8.0->tensorflow-text->keras-hub==0.18.1->keras-nlp>=0.4.0->autokeras==1.1.0->-r https://raw.githubusercontent.com/datamllab/automl-in-action-notebooks/master/requirements.txt (line 1)) (2.15.0)\n"
          ]
        }
      ],
      "source": [
        "!pip install -r https://raw.githubusercontent.com/datamllab/automl-in-action-notebooks/master/requirements.txt\n"
      ]
    },
    {
      "cell_type": "markdown",
      "metadata": {
        "id": "XgCOLLk-Er_w"
      },
      "source": [
        "## Load data\n"
      ]
    },
    {
      "cell_type": "code",
      "execution_count": 2,
      "metadata": {
        "id": "0tiv0ciUEr_x",
        "outputId": "ccac94f6-1241-4f8b-883c-6b8aed73bcf1",
        "colab": {
          "base_uri": "https://localhost:8080/"
        }
      },
      "outputs": [
        {
          "output_type": "execute_result",
          "data": {
            "text/plain": [
              "dict_keys(['data', 'target', 'frame', 'target_names', 'feature_names', 'DESCR'])"
            ]
          },
          "metadata": {},
          "execution_count": 2
        }
      ],
      "source": [
        "# Import the dataset loading function from sklearn\n",
        "from sklearn.datasets import fetch_california_housing\n",
        "\n",
        "# Load the California housing dataset\n",
        "house_dataset = fetch_california_housing()\n",
        "\n",
        "# Display the oringal data\n",
        "house_dataset.keys()\n"
      ]
    },
    {
      "cell_type": "code",
      "execution_count": 3,
      "metadata": {
        "id": "R0zyqIBaEr_z",
        "outputId": "ad677a92-2118-4989-a2a5-8a8d60f15ad4",
        "colab": {
          "base_uri": "https://localhost:8080/",
          "height": 206
        }
      },
      "outputs": [
        {
          "output_type": "execute_result",
          "data": {
            "text/plain": [
              "   MedInc  HouseAge  AveRooms  AveBedrms  Population  AveOccup  Latitude  \\\n",
              "0  8.3252      41.0  6.984127   1.023810       322.0  2.555556     37.88   \n",
              "1  8.3014      21.0  6.238137   0.971880      2401.0  2.109842     37.86   \n",
              "2  7.2574      52.0  8.288136   1.073446       496.0  2.802260     37.85   \n",
              "3  5.6431      52.0  5.817352   1.073059       558.0  2.547945     37.85   \n",
              "4  3.8462      52.0  6.281853   1.081081       565.0  2.181467     37.85   \n",
              "\n",
              "   Longitude  \n",
              "0    -122.23  \n",
              "1    -122.22  \n",
              "2    -122.24  \n",
              "3    -122.25  \n",
              "4    -122.25  "
            ],
            "text/html": [
              "\n",
              "  <div id=\"df-f50ed6af-3df5-4ee2-af15-27fff9f23617\" class=\"colab-df-container\">\n",
              "    <div>\n",
              "<style scoped>\n",
              "    .dataframe tbody tr th:only-of-type {\n",
              "        vertical-align: middle;\n",
              "    }\n",
              "\n",
              "    .dataframe tbody tr th {\n",
              "        vertical-align: top;\n",
              "    }\n",
              "\n",
              "    .dataframe thead th {\n",
              "        text-align: right;\n",
              "    }\n",
              "</style>\n",
              "<table border=\"1\" class=\"dataframe\">\n",
              "  <thead>\n",
              "    <tr style=\"text-align: right;\">\n",
              "      <th></th>\n",
              "      <th>MedInc</th>\n",
              "      <th>HouseAge</th>\n",
              "      <th>AveRooms</th>\n",
              "      <th>AveBedrms</th>\n",
              "      <th>Population</th>\n",
              "      <th>AveOccup</th>\n",
              "      <th>Latitude</th>\n",
              "      <th>Longitude</th>\n",
              "    </tr>\n",
              "  </thead>\n",
              "  <tbody>\n",
              "    <tr>\n",
              "      <th>0</th>\n",
              "      <td>8.3252</td>\n",
              "      <td>41.0</td>\n",
              "      <td>6.984127</td>\n",
              "      <td>1.023810</td>\n",
              "      <td>322.0</td>\n",
              "      <td>2.555556</td>\n",
              "      <td>37.88</td>\n",
              "      <td>-122.23</td>\n",
              "    </tr>\n",
              "    <tr>\n",
              "      <th>1</th>\n",
              "      <td>8.3014</td>\n",
              "      <td>21.0</td>\n",
              "      <td>6.238137</td>\n",
              "      <td>0.971880</td>\n",
              "      <td>2401.0</td>\n",
              "      <td>2.109842</td>\n",
              "      <td>37.86</td>\n",
              "      <td>-122.22</td>\n",
              "    </tr>\n",
              "    <tr>\n",
              "      <th>2</th>\n",
              "      <td>7.2574</td>\n",
              "      <td>52.0</td>\n",
              "      <td>8.288136</td>\n",
              "      <td>1.073446</td>\n",
              "      <td>496.0</td>\n",
              "      <td>2.802260</td>\n",
              "      <td>37.85</td>\n",
              "      <td>-122.24</td>\n",
              "    </tr>\n",
              "    <tr>\n",
              "      <th>3</th>\n",
              "      <td>5.6431</td>\n",
              "      <td>52.0</td>\n",
              "      <td>5.817352</td>\n",
              "      <td>1.073059</td>\n",
              "      <td>558.0</td>\n",
              "      <td>2.547945</td>\n",
              "      <td>37.85</td>\n",
              "      <td>-122.25</td>\n",
              "    </tr>\n",
              "    <tr>\n",
              "      <th>4</th>\n",
              "      <td>3.8462</td>\n",
              "      <td>52.0</td>\n",
              "      <td>6.281853</td>\n",
              "      <td>1.081081</td>\n",
              "      <td>565.0</td>\n",
              "      <td>2.181467</td>\n",
              "      <td>37.85</td>\n",
              "      <td>-122.25</td>\n",
              "    </tr>\n",
              "  </tbody>\n",
              "</table>\n",
              "</div>\n",
              "    <div class=\"colab-df-buttons\">\n",
              "\n",
              "  <div class=\"colab-df-container\">\n",
              "    <button class=\"colab-df-convert\" onclick=\"convertToInteractive('df-f50ed6af-3df5-4ee2-af15-27fff9f23617')\"\n",
              "            title=\"Convert this dataframe to an interactive table.\"\n",
              "            style=\"display:none;\">\n",
              "\n",
              "  <svg xmlns=\"http://www.w3.org/2000/svg\" height=\"24px\" viewBox=\"0 -960 960 960\">\n",
              "    <path d=\"M120-120v-720h720v720H120Zm60-500h600v-160H180v160Zm220 220h160v-160H400v160Zm0 220h160v-160H400v160ZM180-400h160v-160H180v160Zm440 0h160v-160H620v160ZM180-180h160v-160H180v160Zm440 0h160v-160H620v160Z\"/>\n",
              "  </svg>\n",
              "    </button>\n",
              "\n",
              "  <style>\n",
              "    .colab-df-container {\n",
              "      display:flex;\n",
              "      gap: 12px;\n",
              "    }\n",
              "\n",
              "    .colab-df-convert {\n",
              "      background-color: #E8F0FE;\n",
              "      border: none;\n",
              "      border-radius: 50%;\n",
              "      cursor: pointer;\n",
              "      display: none;\n",
              "      fill: #1967D2;\n",
              "      height: 32px;\n",
              "      padding: 0 0 0 0;\n",
              "      width: 32px;\n",
              "    }\n",
              "\n",
              "    .colab-df-convert:hover {\n",
              "      background-color: #E2EBFA;\n",
              "      box-shadow: 0px 1px 2px rgba(60, 64, 67, 0.3), 0px 1px 3px 1px rgba(60, 64, 67, 0.15);\n",
              "      fill: #174EA6;\n",
              "    }\n",
              "\n",
              "    .colab-df-buttons div {\n",
              "      margin-bottom: 4px;\n",
              "    }\n",
              "\n",
              "    [theme=dark] .colab-df-convert {\n",
              "      background-color: #3B4455;\n",
              "      fill: #D2E3FC;\n",
              "    }\n",
              "\n",
              "    [theme=dark] .colab-df-convert:hover {\n",
              "      background-color: #434B5C;\n",
              "      box-shadow: 0px 1px 3px 1px rgba(0, 0, 0, 0.15);\n",
              "      filter: drop-shadow(0px 1px 2px rgba(0, 0, 0, 0.3));\n",
              "      fill: #FFFFFF;\n",
              "    }\n",
              "  </style>\n",
              "\n",
              "    <script>\n",
              "      const buttonEl =\n",
              "        document.querySelector('#df-f50ed6af-3df5-4ee2-af15-27fff9f23617 button.colab-df-convert');\n",
              "      buttonEl.style.display =\n",
              "        google.colab.kernel.accessAllowed ? 'block' : 'none';\n",
              "\n",
              "      async function convertToInteractive(key) {\n",
              "        const element = document.querySelector('#df-f50ed6af-3df5-4ee2-af15-27fff9f23617');\n",
              "        const dataTable =\n",
              "          await google.colab.kernel.invokeFunction('convertToInteractive',\n",
              "                                                    [key], {});\n",
              "        if (!dataTable) return;\n",
              "\n",
              "        const docLinkHtml = 'Like what you see? Visit the ' +\n",
              "          '<a target=\"_blank\" href=https://colab.research.google.com/notebooks/data_table.ipynb>data table notebook</a>'\n",
              "          + ' to learn more about interactive tables.';\n",
              "        element.innerHTML = '';\n",
              "        dataTable['output_type'] = 'display_data';\n",
              "        await google.colab.output.renderOutput(dataTable, element);\n",
              "        const docLink = document.createElement('div');\n",
              "        docLink.innerHTML = docLinkHtml;\n",
              "        element.appendChild(docLink);\n",
              "      }\n",
              "    </script>\n",
              "  </div>\n",
              "\n",
              "\n",
              "<div id=\"df-791a5a29-7b97-4787-a31c-3dc85fafcd00\">\n",
              "  <button class=\"colab-df-quickchart\" onclick=\"quickchart('df-791a5a29-7b97-4787-a31c-3dc85fafcd00')\"\n",
              "            title=\"Suggest charts\"\n",
              "            style=\"display:none;\">\n",
              "\n",
              "<svg xmlns=\"http://www.w3.org/2000/svg\" height=\"24px\"viewBox=\"0 0 24 24\"\n",
              "     width=\"24px\">\n",
              "    <g>\n",
              "        <path d=\"M19 3H5c-1.1 0-2 .9-2 2v14c0 1.1.9 2 2 2h14c1.1 0 2-.9 2-2V5c0-1.1-.9-2-2-2zM9 17H7v-7h2v7zm4 0h-2V7h2v10zm4 0h-2v-4h2v4z\"/>\n",
              "    </g>\n",
              "</svg>\n",
              "  </button>\n",
              "\n",
              "<style>\n",
              "  .colab-df-quickchart {\n",
              "      --bg-color: #E8F0FE;\n",
              "      --fill-color: #1967D2;\n",
              "      --hover-bg-color: #E2EBFA;\n",
              "      --hover-fill-color: #174EA6;\n",
              "      --disabled-fill-color: #AAA;\n",
              "      --disabled-bg-color: #DDD;\n",
              "  }\n",
              "\n",
              "  [theme=dark] .colab-df-quickchart {\n",
              "      --bg-color: #3B4455;\n",
              "      --fill-color: #D2E3FC;\n",
              "      --hover-bg-color: #434B5C;\n",
              "      --hover-fill-color: #FFFFFF;\n",
              "      --disabled-bg-color: #3B4455;\n",
              "      --disabled-fill-color: #666;\n",
              "  }\n",
              "\n",
              "  .colab-df-quickchart {\n",
              "    background-color: var(--bg-color);\n",
              "    border: none;\n",
              "    border-radius: 50%;\n",
              "    cursor: pointer;\n",
              "    display: none;\n",
              "    fill: var(--fill-color);\n",
              "    height: 32px;\n",
              "    padding: 0;\n",
              "    width: 32px;\n",
              "  }\n",
              "\n",
              "  .colab-df-quickchart:hover {\n",
              "    background-color: var(--hover-bg-color);\n",
              "    box-shadow: 0 1px 2px rgba(60, 64, 67, 0.3), 0 1px 3px 1px rgba(60, 64, 67, 0.15);\n",
              "    fill: var(--button-hover-fill-color);\n",
              "  }\n",
              "\n",
              "  .colab-df-quickchart-complete:disabled,\n",
              "  .colab-df-quickchart-complete:disabled:hover {\n",
              "    background-color: var(--disabled-bg-color);\n",
              "    fill: var(--disabled-fill-color);\n",
              "    box-shadow: none;\n",
              "  }\n",
              "\n",
              "  .colab-df-spinner {\n",
              "    border: 2px solid var(--fill-color);\n",
              "    border-color: transparent;\n",
              "    border-bottom-color: var(--fill-color);\n",
              "    animation:\n",
              "      spin 1s steps(1) infinite;\n",
              "  }\n",
              "\n",
              "  @keyframes spin {\n",
              "    0% {\n",
              "      border-color: transparent;\n",
              "      border-bottom-color: var(--fill-color);\n",
              "      border-left-color: var(--fill-color);\n",
              "    }\n",
              "    20% {\n",
              "      border-color: transparent;\n",
              "      border-left-color: var(--fill-color);\n",
              "      border-top-color: var(--fill-color);\n",
              "    }\n",
              "    30% {\n",
              "      border-color: transparent;\n",
              "      border-left-color: var(--fill-color);\n",
              "      border-top-color: var(--fill-color);\n",
              "      border-right-color: var(--fill-color);\n",
              "    }\n",
              "    40% {\n",
              "      border-color: transparent;\n",
              "      border-right-color: var(--fill-color);\n",
              "      border-top-color: var(--fill-color);\n",
              "    }\n",
              "    60% {\n",
              "      border-color: transparent;\n",
              "      border-right-color: var(--fill-color);\n",
              "    }\n",
              "    80% {\n",
              "      border-color: transparent;\n",
              "      border-right-color: var(--fill-color);\n",
              "      border-bottom-color: var(--fill-color);\n",
              "    }\n",
              "    90% {\n",
              "      border-color: transparent;\n",
              "      border-bottom-color: var(--fill-color);\n",
              "    }\n",
              "  }\n",
              "</style>\n",
              "\n",
              "  <script>\n",
              "    async function quickchart(key) {\n",
              "      const quickchartButtonEl =\n",
              "        document.querySelector('#' + key + ' button');\n",
              "      quickchartButtonEl.disabled = true;  // To prevent multiple clicks.\n",
              "      quickchartButtonEl.classList.add('colab-df-spinner');\n",
              "      try {\n",
              "        const charts = await google.colab.kernel.invokeFunction(\n",
              "            'suggestCharts', [key], {});\n",
              "      } catch (error) {\n",
              "        console.error('Error during call to suggestCharts:', error);\n",
              "      }\n",
              "      quickchartButtonEl.classList.remove('colab-df-spinner');\n",
              "      quickchartButtonEl.classList.add('colab-df-quickchart-complete');\n",
              "    }\n",
              "    (() => {\n",
              "      let quickchartButtonEl =\n",
              "        document.querySelector('#df-791a5a29-7b97-4787-a31c-3dc85fafcd00 button');\n",
              "      quickchartButtonEl.style.display =\n",
              "        google.colab.kernel.accessAllowed ? 'block' : 'none';\n",
              "    })();\n",
              "  </script>\n",
              "</div>\n",
              "\n",
              "    </div>\n",
              "  </div>\n"
            ],
            "application/vnd.google.colaboratory.intrinsic+json": {
              "type": "dataframe",
              "variable_name": "data",
              "summary": "{\n  \"name\": \"data\",\n  \"rows\": 20640,\n  \"fields\": [\n    {\n      \"column\": \"MedInc\",\n      \"properties\": {\n        \"dtype\": \"number\",\n        \"std\": 1.8998217179452732,\n        \"min\": 0.4999,\n        \"max\": 15.0001,\n        \"num_unique_values\": 12928,\n        \"samples\": [\n          5.0286,\n          2.0433,\n          6.1228\n        ],\n        \"semantic_type\": \"\",\n        \"description\": \"\"\n      }\n    },\n    {\n      \"column\": \"HouseAge\",\n      \"properties\": {\n        \"dtype\": \"number\",\n        \"std\": 12.585557612111637,\n        \"min\": 1.0,\n        \"max\": 52.0,\n        \"num_unique_values\": 52,\n        \"samples\": [\n          35.0,\n          25.0,\n          7.0\n        ],\n        \"semantic_type\": \"\",\n        \"description\": \"\"\n      }\n    },\n    {\n      \"column\": \"AveRooms\",\n      \"properties\": {\n        \"dtype\": \"number\",\n        \"std\": 2.4741731394243205,\n        \"min\": 0.8461538461538461,\n        \"max\": 141.9090909090909,\n        \"num_unique_values\": 19392,\n        \"samples\": [\n          6.111269614835948,\n          5.912820512820513,\n          5.7924528301886795\n        ],\n        \"semantic_type\": \"\",\n        \"description\": \"\"\n      }\n    },\n    {\n      \"column\": \"AveBedrms\",\n      \"properties\": {\n        \"dtype\": \"number\",\n        \"std\": 0.47391085679546435,\n        \"min\": 0.3333333333333333,\n        \"max\": 34.06666666666667,\n        \"num_unique_values\": 14233,\n        \"samples\": [\n          0.9906542056074766,\n          1.112099644128114,\n          1.0398230088495575\n        ],\n        \"semantic_type\": \"\",\n        \"description\": \"\"\n      }\n    },\n    {\n      \"column\": \"Population\",\n      \"properties\": {\n        \"dtype\": \"number\",\n        \"std\": 1132.4621217653375,\n        \"min\": 3.0,\n        \"max\": 35682.0,\n        \"num_unique_values\": 3888,\n        \"samples\": [\n          4169.0,\n          636.0,\n          3367.0\n        ],\n        \"semantic_type\": \"\",\n        \"description\": \"\"\n      }\n    },\n    {\n      \"column\": \"AveOccup\",\n      \"properties\": {\n        \"dtype\": \"number\",\n        \"std\": 10.386049562213591,\n        \"min\": 0.6923076923076923,\n        \"max\": 1243.3333333333333,\n        \"num_unique_values\": 18841,\n        \"samples\": [\n          2.6939799331103678,\n          3.559375,\n          3.297082228116711\n        ],\n        \"semantic_type\": \"\",\n        \"description\": \"\"\n      }\n    },\n    {\n      \"column\": \"Latitude\",\n      \"properties\": {\n        \"dtype\": \"number\",\n        \"std\": 2.1359523974571117,\n        \"min\": 32.54,\n        \"max\": 41.95,\n        \"num_unique_values\": 862,\n        \"samples\": [\n          33.7,\n          34.41,\n          38.24\n        ],\n        \"semantic_type\": \"\",\n        \"description\": \"\"\n      }\n    },\n    {\n      \"column\": \"Longitude\",\n      \"properties\": {\n        \"dtype\": \"number\",\n        \"std\": 2.003531723502581,\n        \"min\": -124.35,\n        \"max\": -114.31,\n        \"num_unique_values\": 844,\n        \"samples\": [\n          -118.63,\n          -119.86,\n          -121.26\n        ],\n        \"semantic_type\": \"\",\n        \"description\": \"\"\n      }\n    }\n  ]\n}"
            }
          },
          "metadata": {},
          "execution_count": 3
        }
      ],
      "source": [
        "# Import pandas package to format the data\n",
        "import pandas as pd\n",
        "\n",
        "# Extract features with their names into the a dataframe format\n",
        "data = pd.DataFrame(house_dataset.data, columns=house_dataset.feature_names)\n",
        "\n",
        "# Extract target with their names into a pd.Series object with name MedPrice\n",
        "target = pd.Series(house_dataset.target, name=\"MedPrice\")\n",
        "\n",
        "# Visualize the first 5 samples of the data\n",
        "data.head(5)\n"
      ]
    },
    {
      "cell_type": "markdown",
      "metadata": {
        "id": "DZDwLkXkEr_0"
      },
      "source": [
        "### Split the dataset into training and test set\n"
      ]
    },
    {
      "cell_type": "code",
      "execution_count": 4,
      "metadata": {
        "id": "_Y_sBBtjEr_0",
        "outputId": "6e9ecadb-a94c-4f8f-f303-b8b762979489",
        "colab": {
          "base_uri": "https://localhost:8080/"
        }
      },
      "outputs": [
        {
          "output_type": "stream",
          "name": "stdout",
          "text": [
            "--Shape of the whole data--\n",
            " (20640, 8)\n",
            "\n",
            "--Shape of the target vector--\n",
            " (20640,)\n",
            "\n",
            "--Shape of the training data--\n",
            " (16512, 8)\n",
            "\n",
            "--Shape of the testing data--\n",
            " (4128, 8)\n"
          ]
        }
      ],
      "source": [
        "# Split data into training and test dataset\n",
        "from sklearn.model_selection import train_test_split\n",
        "\n",
        "X_train, X_test, y_train, y_test = train_test_split(\n",
        "    data, target, test_size=0.2, random_state=42\n",
        ")\n",
        "\n",
        "# Check the shape of whole dataset and the splited training and test set\n",
        "print(\"--Shape of the whole data--\\n {}\".format(data.shape))\n",
        "print(\"\\n--Shape of the target vector--\\n {}\".format(target.shape))\n",
        "print(\"\\n--Shape of the training data--\\n {}\".format(X_train.shape))\n",
        "print(\"\\n--Shape of the testing data--\\n {}\".format(X_test.shape))\n"
      ]
    },
    {
      "cell_type": "code",
      "execution_count": 5,
      "metadata": {
        "id": "A6OXRi20Er_1",
        "outputId": "e81f2ed0-374a-4281-aba3-499d9bf03e17",
        "colab": {
          "base_uri": "https://localhost:8080/"
        }
      },
      "outputs": [
        {
          "output_type": "execute_result",
          "data": {
            "text/plain": [
              "(((20640, 8), (20640,)), ((16512, 8), (16512,)), ((4128, 8), (4128,)))"
            ]
          },
          "metadata": {},
          "execution_count": 5
        }
      ],
      "source": [
        "(data.shape, target.shape), (X_train.shape, y_train.shape), (X_test.shape, y_test.shape)\n"
      ]
    },
    {
      "cell_type": "markdown",
      "metadata": {
        "id": "Db7aTc4REr_2"
      },
      "source": [
        "## Exploratory data analysis  &  data preprocessing\n"
      ]
    },
    {
      "cell_type": "markdown",
      "metadata": {
        "id": "Cjm6LGBzEr_3"
      },
      "source": [
        "### Q1: What are the data type of the values in each feature?\n"
      ]
    },
    {
      "cell_type": "code",
      "execution_count": 6,
      "metadata": {
        "id": "jF6cZLA-Er_4",
        "outputId": "3414077b-36d5-4f46-b9ac-fe8998c2d575",
        "colab": {
          "base_uri": "https://localhost:8080/",
          "height": 335
        }
      },
      "outputs": [
        {
          "output_type": "execute_result",
          "data": {
            "text/plain": [
              "MedInc        float64\n",
              "HouseAge      float64\n",
              "AveRooms      float64\n",
              "AveBedrms     float64\n",
              "Population    float64\n",
              "AveOccup      float64\n",
              "Latitude      float64\n",
              "Longitude     float64\n",
              "dtype: object"
            ],
            "text/html": [
              "<div>\n",
              "<style scoped>\n",
              "    .dataframe tbody tr th:only-of-type {\n",
              "        vertical-align: middle;\n",
              "    }\n",
              "\n",
              "    .dataframe tbody tr th {\n",
              "        vertical-align: top;\n",
              "    }\n",
              "\n",
              "    .dataframe thead th {\n",
              "        text-align: right;\n",
              "    }\n",
              "</style>\n",
              "<table border=\"1\" class=\"dataframe\">\n",
              "  <thead>\n",
              "    <tr style=\"text-align: right;\">\n",
              "      <th></th>\n",
              "      <th>0</th>\n",
              "    </tr>\n",
              "  </thead>\n",
              "  <tbody>\n",
              "    <tr>\n",
              "      <th>MedInc</th>\n",
              "      <td>float64</td>\n",
              "    </tr>\n",
              "    <tr>\n",
              "      <th>HouseAge</th>\n",
              "      <td>float64</td>\n",
              "    </tr>\n",
              "    <tr>\n",
              "      <th>AveRooms</th>\n",
              "      <td>float64</td>\n",
              "    </tr>\n",
              "    <tr>\n",
              "      <th>AveBedrms</th>\n",
              "      <td>float64</td>\n",
              "    </tr>\n",
              "    <tr>\n",
              "      <th>Population</th>\n",
              "      <td>float64</td>\n",
              "    </tr>\n",
              "    <tr>\n",
              "      <th>AveOccup</th>\n",
              "      <td>float64</td>\n",
              "    </tr>\n",
              "    <tr>\n",
              "      <th>Latitude</th>\n",
              "      <td>float64</td>\n",
              "    </tr>\n",
              "    <tr>\n",
              "      <th>Longitude</th>\n",
              "      <td>float64</td>\n",
              "    </tr>\n",
              "  </tbody>\n",
              "</table>\n",
              "</div><br><label><b>dtype:</b> object</label>"
            ]
          },
          "metadata": {},
          "execution_count": 6
        }
      ],
      "source": [
        "data.dtypes\n"
      ]
    },
    {
      "cell_type": "code",
      "execution_count": 7,
      "metadata": {
        "id": "o-yn1zqHEr_4",
        "outputId": "99edfc60-dcaf-4d04-91b4-dbcb313e2994",
        "colab": {
          "base_uri": "https://localhost:8080/"
        }
      },
      "outputs": [
        {
          "output_type": "stream",
          "name": "stdout",
          "text": [
            "-- Feature type --\n",
            "MedInc        float64\n",
            "HouseAge      float64\n",
            "AveRooms      float64\n",
            "AveBedrms     float64\n",
            "Population    float64\n",
            "AveOccup      float64\n",
            "Latitude      float64\n",
            "Longitude     float64\n",
            "dtype: object\n",
            "\n",
            "-- Target type --\n",
            "float64\n"
          ]
        }
      ],
      "source": [
        "# Check for feature value type\n",
        "print(\"-- Feature type --\\n{}\".format(data.dtypes))\n",
        "print(\"\\n-- Target type --\\n{}\".format(target.dtypes))\n"
      ]
    },
    {
      "cell_type": "markdown",
      "metadata": {
        "id": "et57xRYVEr_4"
      },
      "source": [
        "### Q2: How many distinct values each feature has in the dataset?\n"
      ]
    },
    {
      "cell_type": "code",
      "execution_count": 8,
      "metadata": {
        "id": "udxFEX1tEr_5",
        "outputId": "9b35bddf-3dc9-4096-e63b-54a15a49eee0",
        "colab": {
          "base_uri": "https://localhost:8080/"
        }
      },
      "outputs": [
        {
          "output_type": "stream",
          "name": "stdout",
          "text": [
            "\n",
            "-- # of unique feature values --\n",
            "MedInc        12928\n",
            "HouseAge         52\n",
            "AveRooms      19392\n",
            "AveBedrms     14233\n",
            "Population     3888\n",
            "AveOccup      18841\n",
            "Latitude        862\n",
            "Longitude       844\n",
            "dtype: int64\n"
          ]
        }
      ],
      "source": [
        "# Check for unique feature values\n",
        "print(\"\\n-- # of unique feature values --\\n{}\".format(data.nunique()))\n"
      ]
    },
    {
      "cell_type": "markdown",
      "metadata": {
        "id": "1BaYpVsoEr_5"
      },
      "source": [
        "### Q3: What are the scale and basic statistics of each feature?\n"
      ]
    },
    {
      "cell_type": "code",
      "execution_count": 9,
      "metadata": {
        "id": "5yCeatX1Er_5",
        "outputId": "444ab4c3-5b4a-4f85-c509-9d9803052613",
        "colab": {
          "base_uri": "https://localhost:8080/",
          "height": 300
        }
      },
      "outputs": [
        {
          "output_type": "execute_result",
          "data": {
            "text/plain": [
              "         MedInc  HouseAge  AveRooms  AveBedrms  Population  AveOccup  \\\n",
              "count 20,640.00 20,640.00 20,640.00  20,640.00   20,640.00 20,640.00   \n",
              "mean       3.87     28.64      5.43       1.10    1,425.48      3.07   \n",
              "std        1.90     12.59      2.47       0.47    1,132.46     10.39   \n",
              "min        0.50      1.00      0.85       0.33        3.00      0.69   \n",
              "25%        2.56     18.00      4.44       1.01      787.00      2.43   \n",
              "50%        3.53     29.00      5.23       1.05    1,166.00      2.82   \n",
              "75%        4.74     37.00      6.05       1.10    1,725.00      3.28   \n",
              "max       15.00     52.00    141.91      34.07   35,682.00  1,243.33   \n",
              "\n",
              "       Latitude  Longitude  \n",
              "count 20,640.00  20,640.00  \n",
              "mean      35.63    -119.57  \n",
              "std        2.14       2.00  \n",
              "min       32.54    -124.35  \n",
              "25%       33.93    -121.80  \n",
              "50%       34.26    -118.49  \n",
              "75%       37.71    -118.01  \n",
              "max       41.95    -114.31  "
            ],
            "text/html": [
              "\n",
              "  <div id=\"df-c645973a-3d9b-43ef-9bba-c95eca5e281d\" class=\"colab-df-container\">\n",
              "    <div>\n",
              "<style scoped>\n",
              "    .dataframe tbody tr th:only-of-type {\n",
              "        vertical-align: middle;\n",
              "    }\n",
              "\n",
              "    .dataframe tbody tr th {\n",
              "        vertical-align: top;\n",
              "    }\n",
              "\n",
              "    .dataframe thead th {\n",
              "        text-align: right;\n",
              "    }\n",
              "</style>\n",
              "<table border=\"1\" class=\"dataframe\">\n",
              "  <thead>\n",
              "    <tr style=\"text-align: right;\">\n",
              "      <th></th>\n",
              "      <th>MedInc</th>\n",
              "      <th>HouseAge</th>\n",
              "      <th>AveRooms</th>\n",
              "      <th>AveBedrms</th>\n",
              "      <th>Population</th>\n",
              "      <th>AveOccup</th>\n",
              "      <th>Latitude</th>\n",
              "      <th>Longitude</th>\n",
              "    </tr>\n",
              "  </thead>\n",
              "  <tbody>\n",
              "    <tr>\n",
              "      <th>count</th>\n",
              "      <td>20,640.00</td>\n",
              "      <td>20,640.00</td>\n",
              "      <td>20,640.00</td>\n",
              "      <td>20,640.00</td>\n",
              "      <td>20,640.00</td>\n",
              "      <td>20,640.00</td>\n",
              "      <td>20,640.00</td>\n",
              "      <td>20,640.00</td>\n",
              "    </tr>\n",
              "    <tr>\n",
              "      <th>mean</th>\n",
              "      <td>3.87</td>\n",
              "      <td>28.64</td>\n",
              "      <td>5.43</td>\n",
              "      <td>1.10</td>\n",
              "      <td>1,425.48</td>\n",
              "      <td>3.07</td>\n",
              "      <td>35.63</td>\n",
              "      <td>-119.57</td>\n",
              "    </tr>\n",
              "    <tr>\n",
              "      <th>std</th>\n",
              "      <td>1.90</td>\n",
              "      <td>12.59</td>\n",
              "      <td>2.47</td>\n",
              "      <td>0.47</td>\n",
              "      <td>1,132.46</td>\n",
              "      <td>10.39</td>\n",
              "      <td>2.14</td>\n",
              "      <td>2.00</td>\n",
              "    </tr>\n",
              "    <tr>\n",
              "      <th>min</th>\n",
              "      <td>0.50</td>\n",
              "      <td>1.00</td>\n",
              "      <td>0.85</td>\n",
              "      <td>0.33</td>\n",
              "      <td>3.00</td>\n",
              "      <td>0.69</td>\n",
              "      <td>32.54</td>\n",
              "      <td>-124.35</td>\n",
              "    </tr>\n",
              "    <tr>\n",
              "      <th>25%</th>\n",
              "      <td>2.56</td>\n",
              "      <td>18.00</td>\n",
              "      <td>4.44</td>\n",
              "      <td>1.01</td>\n",
              "      <td>787.00</td>\n",
              "      <td>2.43</td>\n",
              "      <td>33.93</td>\n",
              "      <td>-121.80</td>\n",
              "    </tr>\n",
              "    <tr>\n",
              "      <th>50%</th>\n",
              "      <td>3.53</td>\n",
              "      <td>29.00</td>\n",
              "      <td>5.23</td>\n",
              "      <td>1.05</td>\n",
              "      <td>1,166.00</td>\n",
              "      <td>2.82</td>\n",
              "      <td>34.26</td>\n",
              "      <td>-118.49</td>\n",
              "    </tr>\n",
              "    <tr>\n",
              "      <th>75%</th>\n",
              "      <td>4.74</td>\n",
              "      <td>37.00</td>\n",
              "      <td>6.05</td>\n",
              "      <td>1.10</td>\n",
              "      <td>1,725.00</td>\n",
              "      <td>3.28</td>\n",
              "      <td>37.71</td>\n",
              "      <td>-118.01</td>\n",
              "    </tr>\n",
              "    <tr>\n",
              "      <th>max</th>\n",
              "      <td>15.00</td>\n",
              "      <td>52.00</td>\n",
              "      <td>141.91</td>\n",
              "      <td>34.07</td>\n",
              "      <td>35,682.00</td>\n",
              "      <td>1,243.33</td>\n",
              "      <td>41.95</td>\n",
              "      <td>-114.31</td>\n",
              "    </tr>\n",
              "  </tbody>\n",
              "</table>\n",
              "</div>\n",
              "    <div class=\"colab-df-buttons\">\n",
              "\n",
              "  <div class=\"colab-df-container\">\n",
              "    <button class=\"colab-df-convert\" onclick=\"convertToInteractive('df-c645973a-3d9b-43ef-9bba-c95eca5e281d')\"\n",
              "            title=\"Convert this dataframe to an interactive table.\"\n",
              "            style=\"display:none;\">\n",
              "\n",
              "  <svg xmlns=\"http://www.w3.org/2000/svg\" height=\"24px\" viewBox=\"0 -960 960 960\">\n",
              "    <path d=\"M120-120v-720h720v720H120Zm60-500h600v-160H180v160Zm220 220h160v-160H400v160Zm0 220h160v-160H400v160ZM180-400h160v-160H180v160Zm440 0h160v-160H620v160ZM180-180h160v-160H180v160Zm440 0h160v-160H620v160Z\"/>\n",
              "  </svg>\n",
              "    </button>\n",
              "\n",
              "  <style>\n",
              "    .colab-df-container {\n",
              "      display:flex;\n",
              "      gap: 12px;\n",
              "    }\n",
              "\n",
              "    .colab-df-convert {\n",
              "      background-color: #E8F0FE;\n",
              "      border: none;\n",
              "      border-radius: 50%;\n",
              "      cursor: pointer;\n",
              "      display: none;\n",
              "      fill: #1967D2;\n",
              "      height: 32px;\n",
              "      padding: 0 0 0 0;\n",
              "      width: 32px;\n",
              "    }\n",
              "\n",
              "    .colab-df-convert:hover {\n",
              "      background-color: #E2EBFA;\n",
              "      box-shadow: 0px 1px 2px rgba(60, 64, 67, 0.3), 0px 1px 3px 1px rgba(60, 64, 67, 0.15);\n",
              "      fill: #174EA6;\n",
              "    }\n",
              "\n",
              "    .colab-df-buttons div {\n",
              "      margin-bottom: 4px;\n",
              "    }\n",
              "\n",
              "    [theme=dark] .colab-df-convert {\n",
              "      background-color: #3B4455;\n",
              "      fill: #D2E3FC;\n",
              "    }\n",
              "\n",
              "    [theme=dark] .colab-df-convert:hover {\n",
              "      background-color: #434B5C;\n",
              "      box-shadow: 0px 1px 3px 1px rgba(0, 0, 0, 0.15);\n",
              "      filter: drop-shadow(0px 1px 2px rgba(0, 0, 0, 0.3));\n",
              "      fill: #FFFFFF;\n",
              "    }\n",
              "  </style>\n",
              "\n",
              "    <script>\n",
              "      const buttonEl =\n",
              "        document.querySelector('#df-c645973a-3d9b-43ef-9bba-c95eca5e281d button.colab-df-convert');\n",
              "      buttonEl.style.display =\n",
              "        google.colab.kernel.accessAllowed ? 'block' : 'none';\n",
              "\n",
              "      async function convertToInteractive(key) {\n",
              "        const element = document.querySelector('#df-c645973a-3d9b-43ef-9bba-c95eca5e281d');\n",
              "        const dataTable =\n",
              "          await google.colab.kernel.invokeFunction('convertToInteractive',\n",
              "                                                    [key], {});\n",
              "        if (!dataTable) return;\n",
              "\n",
              "        const docLinkHtml = 'Like what you see? Visit the ' +\n",
              "          '<a target=\"_blank\" href=https://colab.research.google.com/notebooks/data_table.ipynb>data table notebook</a>'\n",
              "          + ' to learn more about interactive tables.';\n",
              "        element.innerHTML = '';\n",
              "        dataTable['output_type'] = 'display_data';\n",
              "        await google.colab.output.renderOutput(dataTable, element);\n",
              "        const docLink = document.createElement('div');\n",
              "        docLink.innerHTML = docLinkHtml;\n",
              "        element.appendChild(docLink);\n",
              "      }\n",
              "    </script>\n",
              "  </div>\n",
              "\n",
              "\n",
              "<div id=\"df-151c2579-6f51-432a-bd34-761daf16fb65\">\n",
              "  <button class=\"colab-df-quickchart\" onclick=\"quickchart('df-151c2579-6f51-432a-bd34-761daf16fb65')\"\n",
              "            title=\"Suggest charts\"\n",
              "            style=\"display:none;\">\n",
              "\n",
              "<svg xmlns=\"http://www.w3.org/2000/svg\" height=\"24px\"viewBox=\"0 0 24 24\"\n",
              "     width=\"24px\">\n",
              "    <g>\n",
              "        <path d=\"M19 3H5c-1.1 0-2 .9-2 2v14c0 1.1.9 2 2 2h14c1.1 0 2-.9 2-2V5c0-1.1-.9-2-2-2zM9 17H7v-7h2v7zm4 0h-2V7h2v10zm4 0h-2v-4h2v4z\"/>\n",
              "    </g>\n",
              "</svg>\n",
              "  </button>\n",
              "\n",
              "<style>\n",
              "  .colab-df-quickchart {\n",
              "      --bg-color: #E8F0FE;\n",
              "      --fill-color: #1967D2;\n",
              "      --hover-bg-color: #E2EBFA;\n",
              "      --hover-fill-color: #174EA6;\n",
              "      --disabled-fill-color: #AAA;\n",
              "      --disabled-bg-color: #DDD;\n",
              "  }\n",
              "\n",
              "  [theme=dark] .colab-df-quickchart {\n",
              "      --bg-color: #3B4455;\n",
              "      --fill-color: #D2E3FC;\n",
              "      --hover-bg-color: #434B5C;\n",
              "      --hover-fill-color: #FFFFFF;\n",
              "      --disabled-bg-color: #3B4455;\n",
              "      --disabled-fill-color: #666;\n",
              "  }\n",
              "\n",
              "  .colab-df-quickchart {\n",
              "    background-color: var(--bg-color);\n",
              "    border: none;\n",
              "    border-radius: 50%;\n",
              "    cursor: pointer;\n",
              "    display: none;\n",
              "    fill: var(--fill-color);\n",
              "    height: 32px;\n",
              "    padding: 0;\n",
              "    width: 32px;\n",
              "  }\n",
              "\n",
              "  .colab-df-quickchart:hover {\n",
              "    background-color: var(--hover-bg-color);\n",
              "    box-shadow: 0 1px 2px rgba(60, 64, 67, 0.3), 0 1px 3px 1px rgba(60, 64, 67, 0.15);\n",
              "    fill: var(--button-hover-fill-color);\n",
              "  }\n",
              "\n",
              "  .colab-df-quickchart-complete:disabled,\n",
              "  .colab-df-quickchart-complete:disabled:hover {\n",
              "    background-color: var(--disabled-bg-color);\n",
              "    fill: var(--disabled-fill-color);\n",
              "    box-shadow: none;\n",
              "  }\n",
              "\n",
              "  .colab-df-spinner {\n",
              "    border: 2px solid var(--fill-color);\n",
              "    border-color: transparent;\n",
              "    border-bottom-color: var(--fill-color);\n",
              "    animation:\n",
              "      spin 1s steps(1) infinite;\n",
              "  }\n",
              "\n",
              "  @keyframes spin {\n",
              "    0% {\n",
              "      border-color: transparent;\n",
              "      border-bottom-color: var(--fill-color);\n",
              "      border-left-color: var(--fill-color);\n",
              "    }\n",
              "    20% {\n",
              "      border-color: transparent;\n",
              "      border-left-color: var(--fill-color);\n",
              "      border-top-color: var(--fill-color);\n",
              "    }\n",
              "    30% {\n",
              "      border-color: transparent;\n",
              "      border-left-color: var(--fill-color);\n",
              "      border-top-color: var(--fill-color);\n",
              "      border-right-color: var(--fill-color);\n",
              "    }\n",
              "    40% {\n",
              "      border-color: transparent;\n",
              "      border-right-color: var(--fill-color);\n",
              "      border-top-color: var(--fill-color);\n",
              "    }\n",
              "    60% {\n",
              "      border-color: transparent;\n",
              "      border-right-color: var(--fill-color);\n",
              "    }\n",
              "    80% {\n",
              "      border-color: transparent;\n",
              "      border-right-color: var(--fill-color);\n",
              "      border-bottom-color: var(--fill-color);\n",
              "    }\n",
              "    90% {\n",
              "      border-color: transparent;\n",
              "      border-bottom-color: var(--fill-color);\n",
              "    }\n",
              "  }\n",
              "</style>\n",
              "\n",
              "  <script>\n",
              "    async function quickchart(key) {\n",
              "      const quickchartButtonEl =\n",
              "        document.querySelector('#' + key + ' button');\n",
              "      quickchartButtonEl.disabled = true;  // To prevent multiple clicks.\n",
              "      quickchartButtonEl.classList.add('colab-df-spinner');\n",
              "      try {\n",
              "        const charts = await google.colab.kernel.invokeFunction(\n",
              "            'suggestCharts', [key], {});\n",
              "      } catch (error) {\n",
              "        console.error('Error during call to suggestCharts:', error);\n",
              "      }\n",
              "      quickchartButtonEl.classList.remove('colab-df-spinner');\n",
              "      quickchartButtonEl.classList.add('colab-df-quickchart-complete');\n",
              "    }\n",
              "    (() => {\n",
              "      let quickchartButtonEl =\n",
              "        document.querySelector('#df-151c2579-6f51-432a-bd34-761daf16fb65 button');\n",
              "      quickchartButtonEl.style.display =\n",
              "        google.colab.kernel.accessAllowed ? 'block' : 'none';\n",
              "    })();\n",
              "  </script>\n",
              "</div>\n",
              "\n",
              "    </div>\n",
              "  </div>\n"
            ],
            "application/vnd.google.colaboratory.intrinsic+json": {
              "type": "dataframe",
              "summary": "{\n  \"name\": \"data\",\n  \"rows\": 8,\n  \"fields\": [\n    {\n      \"column\": \"MedInc\",\n      \"properties\": {\n        \"dtype\": \"number\",\n        \"std\": 7295.721435853639,\n        \"min\": 0.4999,\n        \"max\": 20640.0,\n        \"num_unique_values\": 8,\n        \"samples\": [\n          3.8706710029069766,\n          3.5347999999999997,\n          20640.0\n        ],\n        \"semantic_type\": \"\",\n        \"description\": \"\"\n      }\n    },\n    {\n      \"column\": \"HouseAge\",\n      \"properties\": {\n        \"dtype\": \"number\",\n        \"std\": 7288.35672120143,\n        \"min\": 1.0,\n        \"max\": 20640.0,\n        \"num_unique_values\": 8,\n        \"samples\": [\n          28.639486434108527,\n          29.0,\n          20640.0\n        ],\n        \"semantic_type\": \"\",\n        \"description\": \"\"\n      }\n    },\n    {\n      \"column\": \"AveRooms\",\n      \"properties\": {\n        \"dtype\": \"number\",\n        \"std\": 7289.098256602404,\n        \"min\": 0.8461538461538461,\n        \"max\": 20640.0,\n        \"num_unique_values\": 8,\n        \"samples\": [\n          5.428999742190376,\n          5.229128787878788,\n          20640.0\n        ],\n        \"semantic_type\": \"\",\n        \"description\": \"\"\n      }\n    },\n    {\n      \"column\": \"AveBedrms\",\n      \"properties\": {\n        \"dtype\": \"number\",\n        \"std\": 7295.375141615938,\n        \"min\": 0.3333333333333333,\n        \"max\": 20640.0,\n        \"num_unique_values\": 8,\n        \"samples\": [\n          1.096675149606208,\n          1.048780487804878,\n          20640.0\n        ],\n        \"semantic_type\": \"\",\n        \"description\": \"\"\n      }\n    },\n    {\n      \"column\": \"Population\",\n      \"properties\": {\n        \"dtype\": \"number\",\n        \"std\": 13192.258841737372,\n        \"min\": 3.0,\n        \"max\": 35682.0,\n        \"num_unique_values\": 8,\n        \"samples\": [\n          1425.4767441860465,\n          1166.0,\n          20640.0\n        ],\n        \"semantic_type\": \"\",\n        \"description\": \"\"\n      }\n    },\n    {\n      \"column\": \"AveOccup\",\n      \"properties\": {\n        \"dtype\": \"number\",\n        \"std\": 7246.392673190068,\n        \"min\": 0.6923076923076923,\n        \"max\": 20640.0,\n        \"num_unique_values\": 8,\n        \"samples\": [\n          3.0706551594363742,\n          2.818115654360196,\n          20640.0\n        ],\n        \"semantic_type\": \"\",\n        \"description\": \"\"\n      }\n    },\n    {\n      \"column\": \"Latitude\",\n      \"properties\": {\n        \"dtype\": \"number\",\n        \"std\": 7286.333552413666,\n        \"min\": 2.1359523974571117,\n        \"max\": 20640.0,\n        \"num_unique_values\": 8,\n        \"samples\": [\n          35.63186143410853,\n          34.26,\n          20640.0\n        ],\n        \"semantic_type\": \"\",\n        \"description\": \"\"\n      }\n    },\n    {\n      \"column\": \"Longitude\",\n      \"properties\": {\n        \"dtype\": \"number\",\n        \"std\": 7333.554670164394,\n        \"min\": -124.35,\n        \"max\": 20640.0,\n        \"num_unique_values\": 8,\n        \"samples\": [\n          -119.56970445736432,\n          -118.49,\n          20640.0\n        ],\n        \"semantic_type\": \"\",\n        \"description\": \"\"\n      }\n    }\n  ]\n}"
            }
          },
          "metadata": {},
          "execution_count": 9
        }
      ],
      "source": [
        "# Viewing the data statistics\n",
        "pd.options.display.float_format = \"{:,.2f}\".format\n",
        "data.describe()\n"
      ]
    },
    {
      "cell_type": "markdown",
      "metadata": {
        "id": "WyDU3uiBEr_5"
      },
      "source": [
        "### Q4: Are there missing values contained in the data?\n"
      ]
    },
    {
      "cell_type": "code",
      "execution_count": 10,
      "metadata": {
        "id": "9uaEAKlREr_6",
        "outputId": "b283cd17-4fed-427c-b50c-5bcaf2601e8a",
        "colab": {
          "base_uri": "https://localhost:8080/"
        }
      },
      "outputs": [
        {
          "output_type": "stream",
          "name": "stdout",
          "text": [
            "\n",
            "-- check missing values in training data --\n",
            "MedInc        False\n",
            "HouseAge      False\n",
            "AveRooms      False\n",
            "AveBedrms     False\n",
            "Population    False\n",
            "AveOccup      False\n",
            "Latitude      False\n",
            "Longitude     False\n",
            "MedPrice      False\n",
            "dtype: bool\n",
            "\n",
            "-- check missing values in test data --\n",
            "MedInc        False\n",
            "HouseAge      False\n",
            "AveRooms      False\n",
            "AveBedrms     False\n",
            "Population    False\n",
            "AveOccup      False\n",
            "Latitude      False\n",
            "Longitude     False\n",
            "dtype: bool\n"
          ]
        }
      ],
      "source": [
        "# Copy data to avoid inplace\n",
        "train_data = X_train.copy()\n",
        "\n",
        "# Add a column \"MedPrice\" for the target house price\n",
        "train_data[\"MedPrice\"] = y_train\n",
        "\n",
        "# Check if there're missing values\n",
        "print(\n",
        "    \"\\n-- check missing values in training data --\\n{}\".format(\n",
        "        train_data.isnull().any()\n",
        "    )\n",
        ")\n",
        "print(\"\\n-- check missing values in test data --\\n{}\".format(X_test.isnull().any()))\n"
      ]
    },
    {
      "cell_type": "markdown",
      "metadata": {
        "id": "Gd89zZGjEr_6"
      },
      "source": [
        "##   Feature engineering: feature selection\n"
      ]
    },
    {
      "cell_type": "code",
      "execution_count": null,
      "metadata": {
        "id": "tMsYccRDEr_6"
      },
      "outputs": [],
      "source": [
        "# Can we gain some insights by visualizing the distribution of them or correlationship between them?\n",
        "# Import libraries for plotting\n",
        "import matplotlib.pyplot as plt\n",
        "import seaborn as sns\n",
        "\n",
        "\n",
        "# Pretty display for notebooks (only in a Jupyter notebook)\n"
      ]
    },
    {
      "cell_type": "code",
      "execution_count": null,
      "metadata": {
        "id": "kduYfA8rEr_6"
      },
      "outputs": [],
      "source": [
        "%matplotlib inline\n"
      ]
    },
    {
      "cell_type": "code",
      "execution_count": null,
      "metadata": {
        "id": "bQul3bKtEr_7"
      },
      "outputs": [],
      "source": [
        "\n",
        "# Plot the correlation across all the features and the target\n",
        "plt.figure(figsize=(30, 10))\n",
        "\n",
        "correlation_matrix = train_data.corr().round(2)\n",
        "sns.heatmap(\n",
        "    data=correlation_matrix, square=True, annot=True, cmap=\"Blues\"\n",
        ")  # fmt='.1f', annot_kws={'size':15},\n"
      ]
    },
    {
      "cell_type": "code",
      "execution_count": null,
      "metadata": {
        "id": "TCcvc1u2Er_7"
      },
      "outputs": [],
      "source": [
        "# Select high correlation features & display the pairplot\n",
        "\n",
        "selected_feature_set = [\"MedInc\", \"AveRooms\"]  # 'PTRATIO', , 'Latitude', 'HouseAge'\n",
        "sub_train_data = train_data[selected_feature_set + [\"MedPrice\"]]\n",
        "\n",
        "# Extract the new training features\n",
        "X_train = sub_train_data.drop([\"MedPrice\"], axis=1)\n",
        "\n",
        "# Select same feature sets for test data\n",
        "X_test = X_test[selected_feature_set]\n",
        "\n",
        "\n",
        "sns.pairplot(sub_train_data, height=3.5, plot_kws={\"alpha\": 0.4})\n",
        "plt.tight_layout()\n",
        "\n"
      ]
    },
    {
      "cell_type": "markdown",
      "metadata": {
        "id": "4u1Wt-XvEr_7"
      },
      "source": [
        "## Build up a linear regressor & a decision tree regressor\n"
      ]
    },
    {
      "cell_type": "markdown",
      "metadata": {
        "id": "rZDZo7YpEr_7"
      },
      "source": [
        "### Linear regression\n"
      ]
    },
    {
      "cell_type": "code",
      "execution_count": null,
      "metadata": {
        "id": "L6ML44o8Er_7"
      },
      "outputs": [],
      "source": [
        "# Import library for linear regression\n",
        "from sklearn.linear_model import LinearRegression\n",
        "\n",
        "# Training\n",
        "# Create a Linear regressor\n",
        "linear_regressor = LinearRegression()\n",
        "\n",
        "# Train the model using the training sets\n",
        "linear_regressor.fit(X_train, y_train)\n",
        "\n",
        "# Display the learned parameters\n",
        "# Convert the coefficient values to a dataframe\n",
        "coeffcients = pd.DataFrame(\n",
        "    linear_regressor.coef_, X_train.columns, columns=[\"Coefficient\"]\n",
        ")\n",
        "\n",
        "# Display the intercept value\n",
        "print(\"Learned intercept: {:.2f}\".format(linear_regressor.intercept_))\n",
        "\n",
        "print(\"\\n--The learned coefficient value learned by the linear regression model--\")\n",
        "print(coeffcients)\n"
      ]
    },
    {
      "cell_type": "code",
      "execution_count": null,
      "metadata": {
        "id": "GUR7rS0-Er_8"
      },
      "outputs": [],
      "source": [
        "\n",
        "# Import the built-in MSE metric\n",
        "from sklearn.metrics import mean_squared_error\n",
        "\n",
        "# Model prediction on training data\n",
        "y_pred_train = linear_regressor.predict(X_train)\n",
        "print(\"\\n--Train MSE--\\n{}\".format(mean_squared_error(y_train, y_pred_train)))\n",
        "\n",
        "\n",
        "# Testing\n",
        "y_pred_test = linear_regressor.predict(X_test)\n",
        "\n",
        "print(\"Test MSE: {:.2f}\".format(mean_squared_error(y_test, y_pred_test)))\n"
      ]
    },
    {
      "cell_type": "code",
      "execution_count": null,
      "metadata": {
        "id": "_aJi5qLeEr_8"
      },
      "outputs": [],
      "source": [
        "# Visualizing the differences between actual prices and predicted values\n",
        "plt.scatter(y_test, y_pred_test)\n",
        "plt.xlabel(\"MedPrice\")\n",
        "plt.ylabel(\"Predicted MedPrice\")\n",
        "plt.title(\"MedPrice vs Predicted MedPrice\")\n",
        "plt.show()\n"
      ]
    },
    {
      "cell_type": "code",
      "execution_count": null,
      "metadata": {
        "id": "-jJwdTuGEr_8"
      },
      "outputs": [],
      "source": [
        "# Checking Normality of errors\n",
        "sns.distplot(y_test - y_pred_test)\n",
        "plt.title(\"Histogram of Residuals\")\n",
        "plt.xlabel(\"Residuals\")\n",
        "plt.ylabel(\"Frequency\")\n",
        "plt.show()\n"
      ]
    },
    {
      "cell_type": "markdown",
      "metadata": {
        "id": "fa1NFTdpEr_8"
      },
      "source": [
        "### Decision tree\n"
      ]
    },
    {
      "cell_type": "code",
      "execution_count": null,
      "metadata": {
        "id": "QSVHUMYhEr_8"
      },
      "outputs": [],
      "source": [
        "# Import library for decision tree\n",
        "from sklearn.tree import DecisionTreeRegressor\n",
        "\n",
        "tree_regressor = DecisionTreeRegressor(max_depth=3, random_state=42)\n",
        "tree_regressor.fit(X_train, y_train)\n"
      ]
    },
    {
      "cell_type": "code",
      "execution_count": null,
      "metadata": {
        "id": "FVExsWi5Er_8"
      },
      "outputs": [],
      "source": [
        "# Model prediction on training & test data\n",
        "y_pred_train = tree_regressor.predict(X_train)\n",
        "y_pred_test = tree_regressor.predict(X_test)\n",
        "\n",
        "print(\"Train MSE: {:.2f}\".format(mean_squared_error(y_train, y_pred_train)))\n",
        "\n",
        "print(\"Test MSE: {:.2f}\".format(mean_squared_error(y_test, y_pred_test)))\n"
      ]
    },
    {
      "cell_type": "code",
      "execution_count": null,
      "metadata": {
        "id": "U-BFG1sQEr_9"
      },
      "outputs": [],
      "source": [
        "# Plot outputs\n",
        "# Visualizing the differences between actual prices and predicted values\n",
        "plt.scatter(y_test, y_pred_test)\n",
        "plt.xlabel(\"MedPrice\")\n",
        "plt.ylabel(\"Predicted MedPrice\")\n",
        "plt.title(\"MedPrice vs Predicted MedPrice\")\n",
        "plt.show()\n"
      ]
    },
    {
      "cell_type": "code",
      "execution_count": null,
      "metadata": {
        "id": "VwaBO-dWEr_9"
      },
      "outputs": [],
      "source": [
        "# Visualizing the decision tree\n",
        "from six import StringIO\n",
        "import sklearn.tree as tree\n",
        "import pydotplus\n",
        "\n",
        "from IPython.display import Image\n",
        "\n",
        "dot_data = StringIO()\n",
        "tree.export_graphviz(\n",
        "    tree_regressor,\n",
        "    out_file=dot_data,\n",
        "    class_names=[\"MedPrice\"],  # the target names.\n",
        "    feature_names=selected_feature_set,  # the feature names.\n",
        "    filled=True,  # Whether to fill in the boxes with colours.\n",
        "    rounded=True,  # Whether to round the corners of the boxes.\n",
        "    special_characters=True,\n",
        ")\n",
        "graph = pydotplus.graph_from_dot_data(dot_data.getvalue())\n",
        "Image(graph.create_png())\n"
      ]
    },
    {
      "cell_type": "markdown",
      "metadata": {
        "id": "bGbrRB9EEr_9"
      },
      "source": [
        "## Fine-Tuning: tune the tree depth hyperparameter in the tree regressor\n"
      ]
    },
    {
      "cell_type": "code",
      "execution_count": null,
      "metadata": {
        "id": "3vNNiLuyEr_-"
      },
      "outputs": [],
      "source": [
        "import numpy as np\n",
        "from sklearn.model_selection import KFold\n",
        "\n",
        "kf = KFold(n_splits=5)  # sample indices of datasets for 5-fold cv\n",
        "\n",
        "cv_sets = []\n",
        "for train_index, test_index in kf.split(X_train):\n",
        "    cv_sets.append(\n",
        "        (\n",
        "            X_train.iloc[train_index],\n",
        "            y_train.iloc[train_index],\n",
        "            X_train.iloc[test_index],\n",
        "            y_train.iloc[test_index],\n",
        "        )\n",
        "    )  # construct 5-fold cv datasets\n"
      ]
    },
    {
      "cell_type": "code",
      "execution_count": null,
      "metadata": {
        "id": "NGG11GOAEr_-"
      },
      "outputs": [],
      "source": [
        "max_depths = list(range(1, 11))  # candidate max_depth hyperparamters\n",
        "\n",
        "for max_depth in max_depths:\n",
        "    cv_results = []\n",
        "    regressor = DecisionTreeRegressor(max_depth=max_depth, random_state=42)\n",
        "for (\n",
        "    x_tr,\n",
        "    y_tr,\n",
        "    x_te,\n",
        "    y_te,\n",
        ") in cv_sets:  # loop through all the cv sets and average the validation results\n",
        "    regressor.fit(x_tr, y_tr)\n",
        "    cv_results.append(mean_squared_error(regressor.predict(x_te), y_te))\n",
        "print(\"Tree depth: {}, Avg. MSE: {}\".format(max_depth, np.mean(cv_results)))\n"
      ]
    },
    {
      "cell_type": "code",
      "execution_count": null,
      "metadata": {
        "id": "vZzu0uL9Er_-"
      },
      "outputs": [],
      "source": [
        "# Hp tuning with Sklearn\n",
        "\n",
        "from sklearn.model_selection import GridSearchCV\n",
        "from sklearn.metrics import make_scorer\n",
        "\n",
        "# Build up the decision tree regressor\n",
        "regressor = DecisionTreeRegressor(random_state=42)\n",
        "\n",
        "# Create a dictionary for the hyperparameter 'max_depth' with a range from 1 to 10\n",
        "hps = {\"max_depth\": list(range(1, 11))}\n",
        "\n",
        "# Transform 'performance_metric' into a scoring function using 'make_scorer'.\n",
        "# The default scorer function is the greater the better, here MSE is the lower the better,\n",
        "# so we set ``greater_is_better'' to be False.\n",
        "scoring_fnc = make_scorer(mean_squared_error, greater_is_better=False)\n",
        "\n",
        "# Create the grid search cv object (5-fold cross-validation)\n",
        "grid_search = GridSearchCV(\n",
        "    estimator=regressor, param_grid=hps, scoring=scoring_fnc, cv=5\n",
        ")\n",
        "\n",
        "# Fit the grid search object to the training data to search the optimal model\n",
        "grid_search = grid_search.fit(X_train, y_train)\n",
        "\n"
      ]
    },
    {
      "cell_type": "code",
      "execution_count": null,
      "metadata": {
        "id": "BcMIRftOEr__"
      },
      "outputs": [],
      "source": [
        "cvres = grid_search.cv_results_\n",
        "for mean_score, params in zip(cvres[\"mean_test_score\"], cvres[\"params\"]):\n",
        "    print(-mean_score, params)\n",
        "\n",
        "plt.plot(hps[\"max_depth\"], -cvres[\"mean_test_score\"])\n",
        "plt.title(\"5-fold CV MSE change with tree max depth\")\n",
        "plt.xlabel(\"max_depth\")\n",
        "plt.ylabel(\"MSE\")\n",
        "plt.show()\n"
      ]
    },
    {
      "cell_type": "markdown",
      "metadata": {
        "id": "8MeJ8o6DEr__"
      },
      "source": [
        "## Retrive the best model\n"
      ]
    },
    {
      "cell_type": "code",
      "execution_count": null,
      "metadata": {
        "id": "wGwBT8qVEsAI"
      },
      "outputs": [],
      "source": [
        "grid_search.best_params_\n",
        "best_tree_regressor = grid_search.best_estimator_\n",
        "\n",
        "# Produce the value for 'max_depth'\n",
        "print(\"Best hyperparameter is {}.\".format(grid_search.best_params_))\n",
        "\n",
        "# Model prediction on training & test data\n",
        "y_pred_train = best_tree_regressor.predict(X_train)\n",
        "y_pred_test = best_tree_regressor.predict(X_test)\n",
        "\n",
        "print(\"\\n--Train MSE--\\n{}\".format(mean_squared_error(y_train, y_pred_train)))\n",
        "\n",
        "print(\"\\n--Test MSE--\\n{}\\n\".format(mean_squared_error(y_test, y_pred_test)))\n"
      ]
    },
    {
      "cell_type": "markdown",
      "metadata": {
        "id": "mquUY7rBEsAI"
      },
      "source": [
        "## Real test curve V.S. cross-validation curve\n"
      ]
    },
    {
      "cell_type": "code",
      "execution_count": null,
      "metadata": {
        "id": "K7hWmbM_EsAI"
      },
      "outputs": [],
      "source": [
        "test_results = []\n",
        "for max_depth in hps[\"max_depth\"]:\n",
        "    tmp_results = []\n",
        "    regressor = DecisionTreeRegressor(max_depth=max_depth, random_state=42)\n",
        "    regressor.fit(X_train, y_train)\n",
        "    test_results.append(mean_squared_error(regressor.predict(X_test), y_test))\n",
        "    print(\"Tree depth: {}, Test MSE: {}\".format(max_depth, test_results[-1]))\n",
        "\n",
        "plt.plot(hps[\"max_depth\"], -cvres[\"mean_test_score\"])\n",
        "plt.plot(hps[\"max_depth\"], test_results)\n",
        "plt.title(\"Comparison of the changing curve of the CV results and real test results\")\n",
        "plt.legend([\"CV\", \"Test\"])\n",
        "plt.xlabel(\"max_depth\")\n",
        "plt.ylabel(\"MSE\")\n",
        "plt.show()\n"
      ]
    }
  ],
  "metadata": {
    "colab": {
      "name": "2.2-House-Price-Prediction",
      "provenance": []
    },
    "kernelspec": {
      "display_name": "Python 3",
      "language": "python",
      "name": "python3"
    },
    "language_info": {
      "codemirror_mode": {
        "name": "ipython",
        "version": 3
      },
      "file_extension": ".py",
      "mimetype": "text/x-python",
      "name": "python",
      "nbconvert_exporter": "python",
      "pygments_lexer": "ipython3",
      "version": "3.7.0"
    }
  },
  "nbformat": 4,
  "nbformat_minor": 0
}